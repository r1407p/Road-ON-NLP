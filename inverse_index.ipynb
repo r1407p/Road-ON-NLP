{
 "cells": [
  {
   "cell_type": "code",
   "execution_count": 1,
   "metadata": {},
   "outputs": [
    {
     "name": "stdout",
     "output_type": "stream",
     "text": [
      "20000\n",
      "South Korea posted a surplus on its current account of $419 million in February, in contrast to a deficit of $112 million a year earlier, the government said. The current account comprises trade in goods and services and some unilateral transfers. \n",
      "\n"
     ]
    }
   ],
   "source": [
    "raw_docs = []\n",
    "fname = \"test.txt\"\n",
    "with open(fname, 'r') as f:\n",
    "    for raw_doc in f:\n",
    "        raw_docs.append(raw_doc)\n",
    "print(len(raw_docs))\n",
    "print(raw_docs[1])\n"
   ]
  },
  {
   "cell_type": "code",
   "execution_count": 2,
   "metadata": {},
   "outputs": [],
   "source": [
    "import nltk\n",
    "\n",
    "#這邊需要下載`punkt`以及宣告`stemmer`\n",
    "nltk.download('punkt')\n",
    "stemmer = nltk.stem.PorterStemmer()\n",
    "\n",
    "# processed_docs 儲存預處理過的文件列表\n",
    "processed_docs = []\n",
    "# vocab 儲存(term, term id)組合\n",
    "vocab = {}\n",
    "# total_tokens 儲存總共字數（不是字彙量，而是記號總量）\n",
    "total_tokens = 0\n",
    "\n",
    "for raw_doc in raw_docs:\n",
    "    \n",
    "    # norm_doc 儲存正規化後的文件\n",
    "    norm_doc = []\n",
    "    \n",
    "    # 使用word_tokenize\n",
    "    tokenized_document = nltk.word_tokenize(raw_doc)\n",
    "    for token in tokenized_document:\n",
    "        stemmed_token = stemmer.stem(token).lower()\n",
    "        \n",
    "        norm_doc.append(stemmed_token)\n",
    "\n",
    "        total_tokens += 1\n",
    "        \n",
    "        # 將正規化後的字彙存進vocab (不重複存同樣字型的字彙)\n",
    "        if stemmed_token not in vocab:\n",
    "            vocab[stemmed_token] = len(vocab)\n",
    "            \n",
    "    processed_docs.append(norm_doc)\n",
    "\n",
    "print(\"Number of documents = {}\".format(len(processed_docs)))\n",
    "print(\"Number of unique terms = {}\".format(len(vocab)))\n",
    "print(\"Number of tokens = {}\".format(total_tokens))"
   ]
  },
  {
   "cell_type": "code",
   "execution_count": null,
   "metadata": {},
   "outputs": [],
   "source": []
  }
 ],
 "metadata": {
  "kernelspec": {
   "display_name": "Python 3.9.7 64-bit",
   "language": "python",
   "name": "python3"
  },
  "language_info": {
   "codemirror_mode": {
    "name": "ipython",
    "version": 3
   },
   "file_extension": ".py",
   "mimetype": "text/x-python",
   "name": "python",
   "nbconvert_exporter": "python",
   "pygments_lexer": "ipython3",
   "version": "3.9.7"
  },
  "orig_nbformat": 4,
  "vscode": {
   "interpreter": {
    "hash": "cf92aa13fedf815d5c8dd192b8d835913fde3e8bc926b2a0ad6cc74ef2ba3ca2"
   }
  }
 },
 "nbformat": 4,
 "nbformat_minor": 2
}
