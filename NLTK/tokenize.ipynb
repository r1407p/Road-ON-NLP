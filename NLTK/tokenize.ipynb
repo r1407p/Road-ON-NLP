{
 "cells": [
  {
   "cell_type": "code",
   "execution_count": 1,
   "metadata": {},
   "outputs": [
    {
     "name": "stdout",
     "output_type": "stream",
     "text": [
      "2\n",
      "It's true that we don't know what we've got until we lose it, but it's also true that we don't know what we've been losing until it arrives.\n",
      "It is better to stay silent and be thought a fool, than to open one’s mouth and remove all doubt.\n",
      "2\n",
      "['It', \"'s\", 'true', 'that', 'we', 'do', \"n't\", 'know', 'what', 'we', \"'ve\", 'got', 'until', 'we', 'lose', 'it', ',', 'but', 'it', \"'s\", 'also', 'true', 'that', 'we', 'do', \"n't\", 'know', 'what', 'we', \"'ve\", 'been', 'losing', 'until', 'it', 'arrives', '.']\n",
      "['It', 'is', 'better', 'to', 'stay', 'silent', 'and', 'be', 'thought', 'a', 'fool', ',', 'than', 'to', 'open', 'one', '’', 's', 'mouth', 'and', 'remove', 'all', 'doubt', '.']\n"
     ]
    }
   ],
   "source": [
    "import nltk\n",
    "#nltk.download()\n",
    "text = \"It's true that we don't know what we've got until we lose it, but it's also true that we don't know what we've been losing until it arrives. It is better to stay silent and be thought a fool, than to open one’s mouth and remove all doubt.\"\n",
    "\n",
    "sentences = nltk.sent_tokenize(text)\n",
    "print(len(sentences))\n",
    "for sentence in sentences:\n",
    "    print(sentence)\n",
    "words = []\n",
    "for sentence in sentences:\n",
    "    words.append(nltk.word_tokenize(sentence))   \n",
    "print(len(words)) \n",
    "for word in words:\n",
    "    print(word)\n",
    "\n"
   ]
  },
  {
   "cell_type": "code",
   "execution_count": 7,
   "metadata": {},
   "outputs": [
    {
     "name": "stdout",
     "output_type": "stream",
     "text": [
      "[('to', 2), ('and', 2), ('It', 1), ('is', 1), ('better', 1), ('stay', 1), ('silent', 1), ('be', 1), ('thought', 1), ('a', 1)]\n",
      "<class 'nltk.probability.FreqDist'>\n"
     ]
    }
   ],
   "source": [
    "import nltk\n",
    "token = word\n",
    "fdist = nltk.FreqDist(token)\n",
    "print(fdist.most_common(10))\n",
    "print(type(fdist))"
   ]
  }
 ],
 "metadata": {
  "kernelspec": {
   "display_name": "Python 3.9.7 64-bit",
   "language": "python",
   "name": "python3"
  },
  "language_info": {
   "codemirror_mode": {
    "name": "ipython",
    "version": 3
   },
   "file_extension": ".py",
   "mimetype": "text/x-python",
   "name": "python",
   "nbconvert_exporter": "python",
   "pygments_lexer": "ipython3",
   "version": "3.9.7"
  },
  "orig_nbformat": 4,
  "vscode": {
   "interpreter": {
    "hash": "cf92aa13fedf815d5c8dd192b8d835913fde3e8bc926b2a0ad6cc74ef2ba3ca2"
   }
  }
 },
 "nbformat": 4,
 "nbformat_minor": 2
}
